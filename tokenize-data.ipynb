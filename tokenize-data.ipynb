{
 "cells": [
  {
   "cell_type": "markdown",
   "metadata": {},
   "source": [
    "# Tokenizing json data for tmikolov/word2vec"
   ]
  },
  {
   "cell_type": "markdown",
   "metadata": {},
   "source": [
    "## Read the data\n",
    "\n",
    "This needs to be done only once. You need to change the filename variable to the corpus you wish to train."
   ]
  },
  {
   "cell_type": "code",
   "execution_count": 5,
   "metadata": {},
   "outputs": [
    {
     "name": "stdout",
     "output_type": "stream",
     "text": [
      "{'text': \"&#2;\\nGOODYEAR &lt;GT> PREDICTS FIRST QUARTER NET\\nAKRON, Ohio, April 13 - Goodyear Tire and Rubber Co said it\\nexpects to report earnings from continuing operations of over\\none dlr per share on 71.3 mln average shares outstanding.\\nIn last year's first quarter the company lost 60.0 mln dlrs\\nor 55 cts per share on 108.4 mln shares outstanding, after a\\n110.8 mln dlr writedown of oil reserves of its Celeron Corp\\nunit.\\nGoodyear said it will report first quarter results April 27.\\nGoodyear chairman Robert E. Mercer also told the annual\\nmeeting that unless there is a major downturn in the economy,\\nit expects to work its debt down to normal levels in three\\nyears through its restructuring and cash flow from improved\\nmargins.\\nThe company set up its restructuring program to fend off a\\nhostile takeover attempt by Sir James Goldsmith.  As part of\\nthe restructuring, Goodyear executed a major stock buyback\\nprogram that resulted in an increase in its debt.\\nReuter\\n&#3;\", 'class': 'earn'}\n",
      "[\"&#2;\\nGOODYEAR &lt;GT> PREDICTS FIRST QUARTER NET\\nAKRON, Ohio, April 13 - Goodyear Tire and Rubber Co said it\\nexpects to report earnings from continuing operations of over\\none dlr per share on 71.3 mln average shares outstanding.\\nIn last year's first quarter the company lost 60.0 mln dlrs\\nor 55 cts per share on 108.4 mln shares outstanding, after a\\n110.8 mln dlr writedown of oil reserves of its Celeron Corp\\nunit.\\nGoodyear said it will report first quarter results April 27.\\nGoodyear chairman Robert E. Mercer also told the annual\\nmeeting that unless there is a major downturn in the economy,\\nit expects to work its debt down to normal levels in three\\nyears through its restructuring and cash flow from improved\\nmargins.\\nThe company set up its restructuring program to fend off a\\nhostile takeover attempt by Sir James Goldsmith.  As part of\\nthe restructuring, Goodyear executed a major stock buyback\\nprogram that resulted in an increase in its debt.\\nReuter\\n&#3;\", '&#2;\\nBAYBANKS INC &lt;BBNK> RAISES QTLY DIVIDEND\\nBOSTON, March 27 -\\nQtly div 36 cts vs 33 cts prior\\nPay May one\\nRecord April 14\\nReuter\\n&#3;']\n",
      "['earn', 'earn']\n"
     ]
    }
   ],
   "source": [
    "filename = \"data/imdb_train.json\"\n",
    "\n",
    "import json\n",
    "import random\n",
    "with open(filename) as f:\n",
    "    data=json.load(f)\n",
    "random.shuffle(data) \n",
    "print(data[0])\n",
    "\n",
    "# We need to gather the texts, into a list\n",
    "texts=[one_example[\"text\"] for one_example in data]\n",
    "labels=[one_example[\"class\"] for one_example in data]\n",
    "print(texts[:2])\n",
    "print(labels[:2])"
   ]
  },
  {
   "cell_type": "markdown",
   "metadata": {},
   "source": [
    "## Tokenize the data\n",
    "\n",
    "This also needs to be done only once. After this we will have a tokenized version of the data in a file called \"*filename*.tokenized\"."
   ]
  },
  {
   "cell_type": "code",
   "execution_count": 6,
   "metadata": {},
   "outputs": [
    {
     "name": "stdout",
     "output_type": "stream",
     "text": [
      "['GOODYEAR', 'lt', 'GT', 'PREDICTS', 'FIRST', 'QUARTER', 'NET', 'AKRON', 'Ohio', 'April', '13', 'Goodyear', 'Tire', 'and', 'Rubber', 'Co', 'said', 'it', 'expects', 'to', 'report', 'earnings', 'from', 'continuing', 'operations', 'of', 'over', 'one', 'dlr', 'per', 'share', 'on', '71', 'mln', 'average', 'shares', 'outstanding', 'In', 'last', 'year', 'first', 'quarter', 'the', 'company', 'lost', '60', 'mln', 'dlrs', 'or', '55', 'cts', 'per', 'share', 'on', '108', 'mln', 'shares', 'outstanding', 'after', '110', 'mln', 'dlr', 'writedown', 'of', 'oil', 'reserves', 'of', 'its', 'Celeron', 'Corp', 'unit', 'Goodyear', 'said', 'it', 'will', 'report', 'first', 'quarter', 'results', 'April', '27', 'Goodyear', 'chairman', 'Robert', 'Mercer', 'also', 'told', 'the', 'annual', 'meeting', 'that', 'unless', 'there', 'is', 'major', 'downturn', 'in', 'the', 'economy', 'it', 'expects', 'to', 'work', 'its', 'debt', 'down', 'to', 'normal', 'levels', 'in', 'three', 'years', 'through', 'its', 'restructuring', 'and', 'cash', 'flow', 'from', 'improved', 'margins', 'The', 'company', 'set', 'up', 'its', 'restructuring', 'program', 'to', 'fend', 'off', 'hostile', 'takeover', 'attempt', 'by', 'Sir', 'James', 'Goldsmith', 'As', 'part', 'of', 'the', 'restructuring', 'Goodyear', 'executed', 'major', 'stock', 'buyback', 'program', 'that', 'resulted', 'in', 'an', 'increase', 'in', 'its', 'debt', 'Reuter']\n"
     ]
    }
   ],
   "source": [
    "from sklearn.feature_extraction.text import CountVectorizer\n",
    "import numpy\n",
    "analyzer=CountVectorizer(lowercase=False).build_analyzer() # includes tokenizer and preprocessing\n",
    "print(analyzer(texts[0]))\n",
    "with open(filename + \".tokenized\", \"w\") as file:\n",
    "    for text in texts:\n",
    "        file.write(\" \".join(analyzer(text)))"
   ]
  },
  {
   "cell_type": "code",
   "execution_count": null,
   "metadata": {},
   "outputs": [],
   "source": []
  }
 ],
 "metadata": {
  "kernelspec": {
   "display_name": "Python 3",
   "language": "python",
   "name": "python3"
  },
  "language_info": {
   "codemirror_mode": {
    "name": "ipython",
    "version": 3
   },
   "file_extension": ".py",
   "mimetype": "text/x-python",
   "name": "python",
   "nbconvert_exporter": "python",
   "pygments_lexer": "ipython3",
   "version": "3.6.4"
  }
 },
 "nbformat": 4,
 "nbformat_minor": 2
}
