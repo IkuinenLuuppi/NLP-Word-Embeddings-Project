{
 "cells": [
  {
   "cell_type": "markdown",
   "metadata": {},
   "source": [
    "# NLP Word Embeddings\n",
    "\n",
    "\n",
    "The groupwork of the group number two.\n",
    "\n",
    "Source of truth: https://github.com/TurkuNLP/Deep_Learning_in_LangTech_course\n",
    "\n",
    "\n",
    "###### The group\n",
    "\n",
    "- Mikael Laine\n",
    "\n",
    "- Naren \"Puri\" Purighalla\n",
    "\n",
    "- Juho Kaasalainen\n",
    "\n",
    "- Mari Salonen\n",
    "\n",
    "###### The task\n",
    "\n",
    "Do stuff."
   ]
  },
  {
   "cell_type": "markdown",
   "metadata": {},
   "source": [
    "## Model parameters\n",
    "\n",
    "- corpus: IMDB and Reuters\n",
    "- window size: 3, 5, 7, 9\n",
    "- architecture: CBOW and skip-gram\n",
    "\n",
    "Models should be saved into the `models/` directory. Naming should be model-corpus-windowsize-arch, e.g. `model-imdb-5-skip`."
   ]
  }
 ],
 "metadata": {
  "kernelspec": {
   "display_name": "Python 3",
   "language": "python",
   "name": "python3"
  },
  "language_info": {
   "codemirror_mode": {
    "name": "ipython",
    "version": 3
   },
   "file_extension": ".py",
   "mimetype": "text/x-python",
   "name": "python",
   "nbconvert_exporter": "python",
   "pygments_lexer": "ipython3",
   "version": "3.6.4"
  }
 },
 "nbformat": 4,
 "nbformat_minor": 2
}
