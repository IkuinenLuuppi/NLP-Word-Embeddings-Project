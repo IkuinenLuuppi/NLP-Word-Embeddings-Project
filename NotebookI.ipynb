{
 "cells": [
  {
   "cell_type": "markdown",
   "metadata": {},
   "source": [
    "# NLP Word Embeddings\n",
    "\n",
    "\n",
    "The groupwork of the group number two.\n",
    "\n",
    "###### The group\n",
    "\n",
    "- Mikael Laine\n",
    "\n",
    "- Naren \"Puri\" Purighalla\n",
    "\n",
    "- Juho Kaasalainen\n",
    "\n",
    "- Jane Doe\n",
    "\n",
    "###### The task\n",
    "\n",
    "Do stuff."
   ]
  },
  {
   "cell_type": "code",
   "execution_count": 10,
   "metadata": {},
   "outputs": [
    {
     "data": {
      "text/plain": [
       "'Uryyb'"
      ]
     },
     "execution_count": 10,
     "metadata": {},
     "output_type": "execute_result"
    }
   ],
   "source": [
    "import codecs\n",
    "codecs.encode('Hello', 'rot_13')"
   ]
  },
  {
   "cell_type": "code",
   "execution_count": null,
   "metadata": {},
   "outputs": [],
   "source": []
  }
 ],
 "metadata": {
  "kernelspec": {
   "display_name": "Python 3",
   "language": "python",
   "name": "python3"
  },
  "language_info": {
   "codemirror_mode": {
    "name": "ipython",
    "version": 3
   },
   "file_extension": ".py",
   "mimetype": "text/x-python",
   "name": "python",
   "nbconvert_exporter": "python",
   "pygments_lexer": "ipython3",
   "version": "3.6.5"
  }
 },
 "nbformat": 4,
 "nbformat_minor": 2
}
